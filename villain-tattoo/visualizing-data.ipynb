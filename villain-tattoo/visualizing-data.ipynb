{
 "cells": [
  {
   "cell_type": "code",
   "execution_count": 1,
   "metadata": {
    "collapsed": true
   },
   "outputs": [],
   "source": [
    "import pandas as pd\n",
    "import numpy as np\n",
    "import matplotlib.pyplot as plt\n",
    "import seaborn as sns\n",
    "from ast import literal_eval\n",
    "\n",
    "%matplotlib inline"
   ]
  },
  {
   "cell_type": "code",
   "execution_count": 59,
   "metadata": {},
   "outputs": [],
   "source": [
    "sns.set_style('darkgrid')\n",
    "sns.set_context('talk')\n",
    "sns.set_palette('Set2')"
   ]
  },
  {
   "cell_type": "markdown",
   "metadata": {},
   "source": [
    "Importing data"
   ]
  },
  {
   "cell_type": "code",
   "execution_count": 60,
   "metadata": {
    "collapsed": true
   },
   "outputs": [],
   "source": [
    "# artist -> instagram\n",
    "artist_insta = pd.read_csv('./output/name_insta_data.txt', header=0,\n",
    "                        index_col=0)\n",
    "\n",
    "# instagram -> n_followers\n",
    "\n",
    "follower_count = pd.read_pickle('./output/follower_count.pkl')"
   ]
  },
  {
   "cell_type": "markdown",
   "metadata": {},
   "source": [
    "Let's organize the data a little bit. "
   ]
  },
  {
   "cell_type": "code",
   "execution_count": 61,
   "metadata": {
    "collapsed": true
   },
   "outputs": [],
   "source": [
    "data = pd.DataFrame(columns=['Instagram','Followers', 'Artist'])\n",
    "\n",
    "for i, cell in enumerate(artist_insta.loc[:, \"Instagram\"]):\n",
    "    for insta in literal_eval(cell):\n",
    "        data = data.append(dict(Artist = artist_insta.loc[i,'Name'], \n",
    "                                Instagram = insta,\n",
    "                               Followers = follower_count.loc[insta,0]),\n",
    "                          ignore_index=True)"
   ]
  },
  {
   "cell_type": "code",
   "execution_count": 62,
   "metadata": {},
   "outputs": [
    {
     "data": {
      "text/html": [
       "<div>\n",
       "<style>\n",
       "    .dataframe thead tr:only-child th {\n",
       "        text-align: right;\n",
       "    }\n",
       "\n",
       "    .dataframe thead th {\n",
       "        text-align: left;\n",
       "    }\n",
       "\n",
       "    .dataframe tbody tr th {\n",
       "        vertical-align: top;\n",
       "    }\n",
       "</style>\n",
       "<table border=\"1\" class=\"dataframe\">\n",
       "  <thead>\n",
       "    <tr style=\"text-align: right;\">\n",
       "      <th></th>\n",
       "      <th>Instagram</th>\n",
       "      <th>Followers</th>\n",
       "      <th>Artist</th>\n",
       "    </tr>\n",
       "  </thead>\n",
       "  <tbody>\n",
       "    <tr>\n",
       "      <th>0</th>\n",
       "      <td>heartless_trash252</td>\n",
       "      <td>1210.0</td>\n",
       "      <td>NaN</td>\n",
       "    </tr>\n",
       "    <tr>\n",
       "      <th>1</th>\n",
       "      <td>eternaltattoone</td>\n",
       "      <td>1243.0</td>\n",
       "      <td>Aaron Beaudette</td>\n",
       "    </tr>\n",
       "    <tr>\n",
       "      <th>2</th>\n",
       "      <td>aaronbeaudette</td>\n",
       "      <td>1513.0</td>\n",
       "      <td>Aaron Beaudette</td>\n",
       "    </tr>\n",
       "    <tr>\n",
       "      <th>3</th>\n",
       "      <td>ace_of_art</td>\n",
       "      <td>25543.0</td>\n",
       "      <td>Aaron Rhaburn</td>\n",
       "    </tr>\n",
       "    <tr>\n",
       "      <th>4</th>\n",
       "      <td>aaronistattoo</td>\n",
       "      <td>33630.0</td>\n",
       "      <td>Aaron Is</td>\n",
       "    </tr>\n",
       "  </tbody>\n",
       "</table>\n",
       "</div>"
      ],
      "text/plain": [
       "            Instagram  Followers           Artist\n",
       "0  heartless_trash252     1210.0              NaN\n",
       "1     eternaltattoone     1243.0  Aaron Beaudette\n",
       "2      aaronbeaudette     1513.0  Aaron Beaudette\n",
       "3          ace_of_art    25543.0    Aaron Rhaburn\n",
       "4       aaronistattoo    33630.0         Aaron Is"
      ]
     },
     "execution_count": 62,
     "metadata": {},
     "output_type": "execute_result"
    }
   ],
   "source": [
    "data.head()"
   ]
  },
  {
   "cell_type": "markdown",
   "metadata": {},
   "source": [
    "Filter out instagrams which we weren't able to get number of followers\n",
    "and remove duplicates."
   ]
  },
  {
   "cell_type": "code",
   "execution_count": 63,
   "metadata": {
    "collapsed": true
   },
   "outputs": [],
   "source": [
    "data = data.loc[~data['Followers'].isnull(),:]\n",
    "data.drop_duplicates(inplace=True)"
   ]
  },
  {
   "cell_type": "markdown",
   "metadata": {},
   "source": [
    "An import thing to keep in mind is that a lot fo the artists have two or more instagram accounts associated with them. That is because in their villain-arts profile page they list their personal account and also the account of their studio."
   ]
  },
  {
   "cell_type": "markdown",
   "metadata": {},
   "source": [
    "Let's look at how many of the instagram accounts are associated with more than one artist. These should not be personal accounts."
   ]
  },
  {
   "cell_type": "code",
   "execution_count": 64,
   "metadata": {},
   "outputs": [
    {
     "data": {
      "text/plain": [
       "count                         277\n",
       "unique                        259\n",
       "top       blacksheeptattoostudios\n",
       "freq                            3\n",
       "Name: Instagram, dtype: object"
      ]
     },
     "execution_count": 64,
     "metadata": {},
     "output_type": "execute_result"
    }
   ],
   "source": [
    "data['Instagram'].describe()"
   ]
  },
  {
   "cell_type": "markdown",
   "metadata": {},
   "source": [
    "We see that 259 out of the 278 entries are unique.\n",
    "Let's look only at instagram by followers. To do so we'll create a new DataFrame\n",
    "by dropping duplicates."
   ]
  },
  {
   "cell_type": "code",
   "execution_count": 65,
   "metadata": {
    "collapsed": true
   },
   "outputs": [],
   "source": [
    "df_count = data.drop_duplicates(subset=['Instagram']).loc[:,['Instagram', 'Followers']]\n",
    "df_count.set_index('Instagram', inplace=True)"
   ]
  },
  {
   "cell_type": "markdown",
   "metadata": {},
   "source": [
    "Let's take a first look at the follower distribution"
   ]
  },
  {
   "cell_type": "code",
   "execution_count": 66,
   "metadata": {},
   "outputs": [
    {
     "data": {
      "image/png": "[encoded data removed]",
      "text/plain": [
       "<matplotlib.figure.Figure at 0x7f9187e987f0>"
      ]
     },
     "metadata": {},
     "output_type": "display_data"
    }
   ],
   "source": [
    "sns.distplot(df_count,kde=False,\n",
    "            hist_kws = dict(alpha=1))\n",
    "\n",
    "plt.xlabel(\"Follower count\")\n",
    "plt.ylabel(\"Frequency\")\n",
    "plt.show()"
   ]
  },
  {
   "cell_type": "markdown",
   "metadata": {},
   "source": [
    "What's the CDF?"
   ]
  },
  {
   "cell_type": "code",
   "execution_count": 67,
   "metadata": {},
   "outputs": [
    {
     "data": {
      "image/png": "[encoded data removed]",
      "text/plain": [
       "<matplotlib.figure.Figure at 0x7f9187d9c6a0>"
      ]
     },
     "metadata": {},
     "output_type": "display_data"
    }
   ],
   "source": [
    "np.log10(df_count).hist(cumulative=True, bins=100, normed=True)\n",
    "xticks = np.array([2,3,4,5])\n",
    "\n",
    "xticklabels = 10**xticks\n",
    "\n",
    "plt.title(\"Followers CDF\")\n",
    "\n",
    "plt.xticks(xticks,xticklabels)\n",
    "plt.xlim(xmax=np.log10(df_count.values.max()))\n",
    "\n",
    "plt.xlabel(\"Follower count\")\n",
    "plt.ylabel(\"Relative Frequency\")\n",
    "\n",
    "plt.show()"
   ]
  },
  {
   "cell_type": "markdown",
   "metadata": {},
   "source": [
    "The distribution should make more in log scale:"
   ]
  },
  {
   "cell_type": "code",
   "execution_count": 68,
   "metadata": {},
   "outputs": [
    {
     "data": {
      "image/png": "[encoded data removed]",
      "text/plain": [
       "<matplotlib.figure.Figure at 0x7f9187e2feb8>"
      ]
     },
     "metadata": {},
     "output_type": "display_data"
    }
   ],
   "source": [
    "np.log10(df_count).hist(cumulative=False, bins=30, normed=False)\n",
    "xticks = np.array([2,3,4,5])\n",
    "\n",
    "xticklabels = 10**xticks\n",
    "\n",
    "plt.title(\"Followers\")\n",
    "\n",
    "plt.xticks(xticks,xticklabels)\n",
    "plt.xlim(xmax=np.log10(df_count.values.max()))\n",
    "\n",
    "plt.xlabel(\"Follower count\")\n",
    "plt.ylabel(\"Counts\")\n",
    "\n",
    "plt.show()"
   ]
  },
  {
   "cell_type": "markdown",
   "metadata": {},
   "source": [
    "From CDF we can see that more than 80% of the accounts have less than 10k followers\n",
    "and about 20% less than 1000.\n",
    "\n",
    "Looks like there are a few outliers. What is the distribution without them?\n",
    "Let's exclude points two sigmas away from the mean."
   ]
  },
  {
   "cell_type": "code",
   "execution_count": 69,
   "metadata": {
    "collapsed": true
   },
   "outputs": [],
   "source": [
    "insta_out = df_count > (df_count.mean() + 2*df_count.std())"
   ]
  },
  {
   "cell_type": "code",
   "execution_count": 70,
   "metadata": {},
   "outputs": [
    {
     "data": {
      "text/html": [
       "<div>\n",
       "<style>\n",
       "    .dataframe thead tr:only-child th {\n",
       "        text-align: right;\n",
       "    }\n",
       "\n",
       "    .dataframe thead th {\n",
       "        text-align: left;\n",
       "    }\n",
       "\n",
       "    .dataframe tbody tr th {\n",
       "        vertical-align: top;\n",
       "    }\n",
       "</style>\n",
       "<table border=\"1\" class=\"dataframe\">\n",
       "  <thead>\n",
       "    <tr style=\"text-align: right;\">\n",
       "      <th></th>\n",
       "      <th>Followers</th>\n",
       "    </tr>\n",
       "    <tr>\n",
       "      <th>Instagram</th>\n",
       "      <th></th>\n",
       "    </tr>\n",
       "  </thead>\n",
       "  <tbody>\n",
       "    <tr>\n",
       "      <th>cleenrockone</th>\n",
       "      <td>197520.0</td>\n",
       "    </tr>\n",
       "    <tr>\n",
       "      <th>blackink.125th</th>\n",
       "      <td>202020.0</td>\n",
       "    </tr>\n",
       "    <tr>\n",
       "      <th>inkbykyledunbar</th>\n",
       "      <td>106254.0</td>\n",
       "    </tr>\n",
       "    <tr>\n",
       "      <th>ryanhenrytattoo</th>\n",
       "      <td>598989.0</td>\n",
       "    </tr>\n",
       "  </tbody>\n",
       "</table>\n",
       "</div>"
      ],
      "text/plain": [
       "                 Followers\n",
       "Instagram                 \n",
       "cleenrockone      197520.0\n",
       "blackink.125th    202020.0\n",
       "inkbykyledunbar   106254.0\n",
       "ryanhenrytattoo   598989.0"
      ]
     },
     "execution_count": 70,
     "metadata": {},
     "output_type": "execute_result"
    }
   ],
   "source": [
    "# outliers\n",
    "df_count[insta_out.values]"
   ]
  },
  {
   "cell_type": "code",
   "execution_count": 71,
   "metadata": {},
   "outputs": [
    {
     "data": {
      "image/png": "[encoded data removed]",
      "text/plain": [
       "<matplotlib.figure.Figure at 0x7f9187d1e7f0>"
      ]
     },
     "metadata": {},
     "output_type": "display_data"
    },
    {
     "data": {
      "image/png": "[encoded data removed]",
      "text/plain": [
       "<matplotlib.figure.Figure at 0x7f9185feaeb8>"
      ]
     },
     "metadata": {},
     "output_type": "display_data"
    }
   ],
   "source": [
    "sns.distplot(df_count[~insta_out.values],\n",
    "             kde=False, bins = 15,\n",
    "            hist_kws = dict(alpha=1))\n",
    "\n",
    "plt.xlabel(\"Follower count\")\n",
    "plt.ylabel(\"Frequency\")\n",
    "plt.show()\n",
    "\n",
    "\n",
    "sns.distplot(df_count[(df_count < 1e4).values],\n",
    "             kde=False, bins = 15,\n",
    "            hist_kws = dict(alpha=1))\n",
    "\n",
    "plt.xlabel(\"Follower count\")\n",
    "plt.ylabel(\"Frequency\")\n",
    "plt.show()"
   ]
  },
  {
   "cell_type": "markdown",
   "metadata": {},
   "source": [
    "Top 10 instagram accounts:"
   ]
  },
  {
   "cell_type": "code",
   "execution_count": 72,
   "metadata": {
    "scrolled": true
   },
   "outputs": [
    {
     "data": {
      "image/png": "[encoded data removed]",
      "text/plain": [
       "<matplotlib.figure.Figure at 0x7f9187de54a8>"
      ]
     },
     "metadata": {},
     "output_type": "display_data"
    }
   ],
   "source": [
    "fig, ax = plt.subplots(figsize=(10,5))\n",
    "\n",
    "top10 = data.sort_values('Followers', ascending=False)[0:10]\n",
    "\n",
    "sns.barplot(x='Followers', y = 'Instagram', data = top10,\n",
    "            ci=None, n_boot=0, ax = ax)\n",
    "ax.set_xlim(xmax=top10.Followers.max())\n",
    "\n",
    "plt.show()"
   ]
  },
  {
   "cell_type": "markdown",
   "metadata": {},
   "source": [
    "Ok, let's now try to prepare a dataframe without studio instagram accounts.\n",
    "There isn't a clear way to differentiate between an artist's and a studio's account.\n",
    "However, we know that if an account is associated with more than one artist, then\n",
    "it is a studio account, so we'll drop that like we did for df_count, but not keeping any of the duplicates copy."
   ]
  },
  {
   "cell_type": "code",
   "execution_count": 102,
   "metadata": {},
   "outputs": [],
   "source": [
    "df_profiles = data.drop_duplicates(subset='Instagram', keep=False)"
   ]
  },
  {
   "cell_type": "markdown",
   "metadata": {},
   "source": [
    "Now what's left over should be seen by checking which artist's have more than one instagram."
   ]
  },
  {
   "cell_type": "code",
   "execution_count": 103,
   "metadata": {},
   "outputs": [
    {
     "data": {
      "text/html": [
       "<div>\n",
       "<style>\n",
       "    .dataframe thead tr:only-child th {\n",
       "        text-align: right;\n",
       "    }\n",
       "\n",
       "    .dataframe thead th {\n",
       "        text-align: left;\n",
       "    }\n",
       "\n",
       "    .dataframe tbody tr th {\n",
       "        vertical-align: top;\n",
       "    }\n",
       "</style>\n",
       "<table border=\"1\" class=\"dataframe\">\n",
       "  <thead>\n",
       "    <tr style=\"text-align: right;\">\n",
       "      <th></th>\n",
       "      <th>Instagram</th>\n",
       "      <th>Followers</th>\n",
       "      <th>Artist</th>\n",
       "    </tr>\n",
       "  </thead>\n",
       "  <tbody>\n",
       "    <tr>\n",
       "      <th>12</th>\n",
       "      <td>fishladdertattooco</td>\n",
       "      <td>1897.0</td>\n",
       "      <td>Alex Dell</td>\n",
       "    </tr>\n",
       "    <tr>\n",
       "      <th>13</th>\n",
       "      <td>alexdeltattoos</td>\n",
       "      <td>4115.0</td>\n",
       "      <td>Alex Dell</td>\n",
       "    </tr>\n",
       "    <tr>\n",
       "      <th>56</th>\n",
       "      <td>cameronbaxtertattoos</td>\n",
       "      <td>7591.0</td>\n",
       "      <td>Cam Baxter</td>\n",
       "    </tr>\n",
       "    <tr>\n",
       "      <th>57</th>\n",
       "      <td>GotInkClothing</td>\n",
       "      <td>14067.0</td>\n",
       "      <td>Cam Baxter</td>\n",
       "    </tr>\n",
       "    <tr>\n",
       "      <th>77</th>\n",
       "      <td>goldenskulltattoo</td>\n",
       "      <td>27915.0</td>\n",
       "      <td>Cleen Rock One</td>\n",
       "    </tr>\n",
       "    <tr>\n",
       "      <th>78</th>\n",
       "      <td>cleenrockone</td>\n",
       "      <td>197520.0</td>\n",
       "      <td>Cleen Rock One</td>\n",
       "    </tr>\n",
       "    <tr>\n",
       "      <th>85</th>\n",
       "      <td>trilogytattoogallery</td>\n",
       "      <td>10458.0</td>\n",
       "      <td>Danny Hernandez</td>\n",
       "    </tr>\n",
       "    <tr>\n",
       "      <th>86</th>\n",
       "      <td>dannynandez</td>\n",
       "      <td>4940.0</td>\n",
       "      <td>Danny Hernandez</td>\n",
       "    </tr>\n",
       "    <tr>\n",
       "      <th>118</th>\n",
       "      <td>blacksheepstudios</td>\n",
       "      <td>2045.0</td>\n",
       "      <td>Evin Barba</td>\n",
       "    </tr>\n",
       "    <tr>\n",
       "      <th>119</th>\n",
       "      <td>tattoosbyevinbarba</td>\n",
       "      <td>1289.0</td>\n",
       "      <td>Evin Barba</td>\n",
       "    </tr>\n",
       "    <tr>\n",
       "      <th>120</th>\n",
       "      <td>frankdemao</td>\n",
       "      <td>1523.0</td>\n",
       "      <td>Frank DeMao</td>\n",
       "    </tr>\n",
       "    <tr>\n",
       "      <th>121</th>\n",
       "      <td>bent_n_twiztidtattooing</td>\n",
       "      <td>702.0</td>\n",
       "      <td>Frank DeMao</td>\n",
       "    </tr>\n",
       "    <tr>\n",
       "      <th>141</th>\n",
       "      <td>jakerosstattoos</td>\n",
       "      <td>47373.0</td>\n",
       "      <td>Jake Ross</td>\n",
       "    </tr>\n",
       "    <tr>\n",
       "      <th>142</th>\n",
       "      <td>everlasttattooco</td>\n",
       "      <td>4966.0</td>\n",
       "      <td>Jake Ross</td>\n",
       "    </tr>\n",
       "    <tr>\n",
       "      <th>164</th>\n",
       "      <td>modifiedskintattoos</td>\n",
       "      <td>1555.0</td>\n",
       "      <td>Josh Wiley</td>\n",
       "    </tr>\n",
       "    <tr>\n",
       "      <th>165</th>\n",
       "      <td>joshwileyart</td>\n",
       "      <td>2651.0</td>\n",
       "      <td>Josh Wiley</td>\n",
       "    </tr>\n",
       "    <tr>\n",
       "      <th>238</th>\n",
       "      <td>9magtattoo</td>\n",
       "      <td>39536.0</td>\n",
       "      <td>Ryan Henry</td>\n",
       "    </tr>\n",
       "    <tr>\n",
       "      <th>239</th>\n",
       "      <td>ryanhenrytattoo</td>\n",
       "      <td>598989.0</td>\n",
       "      <td>Ryan Henry</td>\n",
       "    </tr>\n",
       "    <tr>\n",
       "      <th>265</th>\n",
       "      <td>t.martintattooer</td>\n",
       "      <td>1034.0</td>\n",
       "      <td>Tim Martin</td>\n",
       "    </tr>\n",
       "    <tr>\n",
       "      <th>266</th>\n",
       "      <td>artofmartin85</td>\n",
       "      <td>770.0</td>\n",
       "      <td>Tim Martin</td>\n",
       "    </tr>\n",
       "    <tr>\n",
       "      <th>272</th>\n",
       "      <td>blackinkorlando</td>\n",
       "      <td>27356.0</td>\n",
       "      <td>Trap</td>\n",
       "    </tr>\n",
       "    <tr>\n",
       "      <th>273</th>\n",
       "      <td>holyshit407</td>\n",
       "      <td>7464.0</td>\n",
       "      <td>Trap</td>\n",
       "    </tr>\n",
       "    <tr>\n",
       "      <th>282</th>\n",
       "      <td>queenbeedammit</td>\n",
       "      <td>1509.0</td>\n",
       "      <td>Wendy Pinkerton</td>\n",
       "    </tr>\n",
       "    <tr>\n",
       "      <th>283</th>\n",
       "      <td>kustomcultureohio</td>\n",
       "      <td>387.0</td>\n",
       "      <td>Wendy Pinkerton</td>\n",
       "    </tr>\n",
       "  </tbody>\n",
       "</table>\n",
       "</div>"
      ],
      "text/plain": [
       "                   Instagram  Followers           Artist\n",
       "12        fishladdertattooco     1897.0        Alex Dell\n",
       "13            alexdeltattoos     4115.0        Alex Dell\n",
       "56      cameronbaxtertattoos     7591.0       Cam Baxter\n",
       "57            GotInkClothing    14067.0       Cam Baxter\n",
       "77         goldenskulltattoo    27915.0   Cleen Rock One\n",
       "78              cleenrockone   197520.0   Cleen Rock One\n",
       "85      trilogytattoogallery    10458.0  Danny Hernandez\n",
       "86               dannynandez     4940.0  Danny Hernandez\n",
       "118        blacksheepstudios     2045.0       Evin Barba\n",
       "119       tattoosbyevinbarba     1289.0       Evin Barba\n",
       "120               frankdemao     1523.0      Frank DeMao\n",
       "121  bent_n_twiztidtattooing      702.0      Frank DeMao\n",
       "141          jakerosstattoos    47373.0        Jake Ross\n",
       "142         everlasttattooco     4966.0        Jake Ross\n",
       "164      modifiedskintattoos     1555.0       Josh Wiley\n",
       "165             joshwileyart     2651.0       Josh Wiley\n",
       "238               9magtattoo    39536.0       Ryan Henry\n",
       "239          ryanhenrytattoo   598989.0       Ryan Henry\n",
       "265         t.martintattooer     1034.0       Tim Martin\n",
       "266            artofmartin85      770.0       Tim Martin\n",
       "272          blackinkorlando    27356.0             Trap\n",
       "273              holyshit407     7464.0             Trap\n",
       "282           queenbeedammit     1509.0  Wendy Pinkerton\n",
       "283        kustomcultureohio      387.0  Wendy Pinkerton"
      ]
     },
     "execution_count": 103,
     "metadata": {},
     "output_type": "execute_result"
    }
   ],
   "source": [
    "df_profiles[df_profiles['Artist'].duplicated(keep=False)]"
   ]
  },
  {
   "cell_type": "markdown",
   "metadata": {},
   "source": [
    "From here we can select manually which ones to drop:"
   ]
  },
  {
   "cell_type": "code",
   "execution_count": 104,
   "metadata": {
    "collapsed": true
   },
   "outputs": [],
   "source": [
    "acc_to_drop = [12, 57, 77, 85, 118, 121, 142, 164, 238, 266, 272, 283]"
   ]
  },
  {
   "cell_type": "markdown",
   "metadata": {},
   "source": [
    "Curiously Tim Martin has two personal accounts, so we're keeping the one with the most followers."
   ]
  },
  {
   "cell_type": "code",
   "execution_count": 106,
   "metadata": {},
   "outputs": [
    {
     "name": "stderr",
     "output_type": "stream",
     "text": [
      "/home/modwyer/anaconda3/lib/python3.5/site-packages/ipykernel_launcher.py:1: SettingWithCopyWarning: \n",
      "A value is trying to be set on a copy of a slice from a DataFrame\n",
      "\n",
      "See the caveats in the documentation: http://pandas.pydata.org/pandas-docs/stable/indexing.html#indexing-view-versus-copy\n",
      "  \"\"\"Entry point for launching an IPython kernel.\n"
     ]
    }
   ],
   "source": [
    "df_profiles.drop(acc_to_drop, errors='ignore', inplace=True)"
   ]
  },
  {
   "cell_type": "markdown",
   "metadata": {},
   "source": [
    "Let's look at the distributions one more time:"
   ]
  },
  {
   "cell_type": "code",
   "execution_count": 111,
   "metadata": {
    "scrolled": true
   },
   "outputs": [
    {
     "data": {
      "image/png": "[encoded data removed]",
      "text/plain": [
       "<matplotlib.figure.Figure at 0x7f9185f91a90>"
      ]
     },
     "metadata": {},
     "output_type": "display_data"
    }
   ],
   "source": [
    "np.log10(df_profiles['Followers']).hist(cumulative=False, bins=30, normed=False)\n",
    "xticks = np.array([2,3,4,5])\n",
    "\n",
    "xticklabels = 10**xticks\n",
    "\n",
    "plt.title(\"Followers\")\n",
    "\n",
    "plt.xticks(xticks,xticklabels)\n",
    "plt.xlim(xmax=np.log10(df_profiles['Followers'].values.max()))\n",
    "\n",
    "plt.xlabel(\"Follower count\")\n",
    "plt.ylabel(\"Counts\")\n",
    "\n",
    "plt.show()"
   ]
  },
  {
   "cell_type": "code",
   "execution_count": 213,
   "metadata": {
    "collapsed": true
   },
   "outputs": [],
   "source": [
    "def bar_label(ax):\n",
    "    \"\"\"Labels each bar in bar plot with number of instagram followers\"\"\"\n",
    "    for p in ax.patches:\n",
    "        label = str(int(np.round(p.get_width()/1000,decimals=0)))+'k'\n",
    "        ax.text(x=ax.get_xlim()[-1]/200,\n",
    "               y=p.get_y() + p.get_height()/1.4,\n",
    "               s=label,\n",
    "               fontdict=dict(weight='bold', color='white',size=12))"
   ]
  },
  {
   "cell_type": "code",
   "execution_count": 219,
   "metadata": {
    "scrolled": true
   },
   "outputs": [
    {
     "data": {
      "image/png": "[encoded data removed]",
      "text/plain": [
       "<matplotlib.figure.Figure at 0x7f9187c59e10>"
      ]
     },
     "metadata": {},
     "output_type": "display_data"
    }
   ],
   "source": [
    "fig, ax = plt.subplots(figsize=(10,5))\n",
    "\n",
    "n = 12\n",
    "pal = sns.color_palette('cool',n)\n",
    "top_artists = df_profiles.sort_values('Followers', ascending=False)[0:n]\n",
    "\n",
    "sns.barplot(x='Followers', y = 'Artist', data = top_artists,\n",
    "            ci=None, n_boot=0, ax = ax, palette=pal)\n",
    "ax.set_xlim(xmax=top_artists.Followers.max())\n",
    "\n",
    "bar_label(ax)\n",
    "\n",
    "plt.title('Top {} artists by number of instagram followers'.format(n))\n",
    "plt.show()"
   ]
  }
 ],
 "metadata": {
  "kernelspec": {
   "display_name": "Python 3",
   "language": "python",
   "name": "python3"
  },
  "language_info": {
   "codemirror_mode": {
    "name": "ipython",
    "version": 3
   },
   "file_extension": ".py",
   "mimetype": "text/x-python",
   "name": "python",
   "nbconvert_exporter": "python",
   "pygments_lexer": "ipython3",
   "version": "3.5.1"
  }
 },
 "nbformat": 4,
 "nbformat_minor": 2
}
