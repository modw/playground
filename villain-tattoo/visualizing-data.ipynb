{
 "cells": [
  {
   "cell_type": "code",
   "execution_count": 150,
   "metadata": {
    "collapsed": true
   },
   "outputs": [],
   "source": [
    "import pandas as pd\n",
    "import numpy as np\n",
    "import matplotlib.pyplot as plt\n",
    "import seaborn as sns\n",
    "from ast import literal_eval\n",
    "\n",
    "%matplotlib inline"
   ]
  },
  {
   "cell_type": "code",
   "execution_count": 152,
   "metadata": {},
   "outputs": [],
   "source": [
    "sns.set_style('darkgrid')\n",
    "sns.set_context('talk')\n",
    "sns.set_palette('Set2')"
   ]
  },
  {
   "cell_type": "markdown",
   "metadata": {},
   "source": [
    "Importing data"
   ]
  },
  {
   "cell_type": "code",
   "execution_count": 3,
   "metadata": {
    "collapsed": true
   },
   "outputs": [],
   "source": [
    "# artist -> instagram\n",
    "artist_insta = pd.read_csv('./output/name_insta_data.txt', header=0,\n",
    "                        index_col=0)\n",
    "\n",
    "# instagram -> n_followers\n",
    "\n",
    "follower_count = pd.read_pickle('./output/follower_count.pkl')"
   ]
  },
  {
   "cell_type": "markdown",
   "metadata": {},
   "source": [
    "Let's organize the data a little bit. "
   ]
  },
  {
   "cell_type": "code",
   "execution_count": 31,
   "metadata": {},
   "outputs": [],
   "source": [
    "data = pd.DataFrame(columns=['Instagram','Followers', 'Artist'])\n",
    "\n",
    "for i, cell in enumerate(artist_insta.loc[:, \"Instagram\"]):\n",
    "    for insta in literal_eval(cell):\n",
    "        data = data.append(dict(Artist = artist_insta.loc[i,'Name'], \n",
    "                                Instagram = insta,\n",
    "                               Followers = follower_count.loc[insta,0]),\n",
    "                          ignore_index=True)"
   ]
  },
  {
   "cell_type": "code",
   "execution_count": 33,
   "metadata": {},
   "outputs": [
    {
     "data": {
      "text/html": [
       "<div>\n",
       "<style>\n",
       "    .dataframe thead tr:only-child th {\n",
       "        text-align: right;\n",
       "    }\n",
       "\n",
       "    .dataframe thead th {\n",
       "        text-align: left;\n",
       "    }\n",
       "\n",
       "    .dataframe tbody tr th {\n",
       "        vertical-align: top;\n",
       "    }\n",
       "</style>\n",
       "<table border=\"1\" class=\"dataframe\">\n",
       "  <thead>\n",
       "    <tr style=\"text-align: right;\">\n",
       "      <th></th>\n",
       "      <th>Instagram</th>\n",
       "      <th>Followers</th>\n",
       "      <th>Artist</th>\n",
       "    </tr>\n",
       "  </thead>\n",
       "  <tbody>\n",
       "    <tr>\n",
       "      <th>0</th>\n",
       "      <td>heartless_trash252</td>\n",
       "      <td>1210.0</td>\n",
       "      <td>NaN</td>\n",
       "    </tr>\n",
       "    <tr>\n",
       "      <th>1</th>\n",
       "      <td>eternaltattoone</td>\n",
       "      <td>1243.0</td>\n",
       "      <td>Aaron Beaudette</td>\n",
       "    </tr>\n",
       "    <tr>\n",
       "      <th>2</th>\n",
       "      <td>aaronbeaudette</td>\n",
       "      <td>1513.0</td>\n",
       "      <td>Aaron Beaudette</td>\n",
       "    </tr>\n",
       "    <tr>\n",
       "      <th>3</th>\n",
       "      <td>ace_of_art</td>\n",
       "      <td>25543.0</td>\n",
       "      <td>Aaron Rhaburn</td>\n",
       "    </tr>\n",
       "    <tr>\n",
       "      <th>4</th>\n",
       "      <td>aaronistattoo</td>\n",
       "      <td>33630.0</td>\n",
       "      <td>Aaron Is</td>\n",
       "    </tr>\n",
       "  </tbody>\n",
       "</table>\n",
       "</div>"
      ],
      "text/plain": [
       "            Instagram  Followers           Artist\n",
       "0  heartless_trash252     1210.0              NaN\n",
       "1     eternaltattoone     1243.0  Aaron Beaudette\n",
       "2      aaronbeaudette     1513.0  Aaron Beaudette\n",
       "3          ace_of_art    25543.0    Aaron Rhaburn\n",
       "4       aaronistattoo    33630.0         Aaron Is"
      ]
     },
     "execution_count": 33,
     "metadata": {},
     "output_type": "execute_result"
    }
   ],
   "source": [
    "data.head()"
   ]
  },
  {
   "cell_type": "markdown",
   "metadata": {},
   "source": [
    "Filter out instagrams which we weren't able to get number of followers\n",
    "and remove duplicates."
   ]
  },
  {
   "cell_type": "code",
   "execution_count": 206,
   "metadata": {},
   "outputs": [],
   "source": [
    "data = data.loc[~data['Followers'].isnull(),:]\n",
    "data.drop_duplicates(inplace=True)"
   ]
  },
  {
   "cell_type": "markdown",
   "metadata": {},
   "source": [
    "An import thing to keep in mind is that a lot fo the artists have two or more instagram accounts associated with them. That is because in their villain-arts profile page they list their personal account and also the account of their studio."
   ]
  },
  {
   "cell_type": "markdown",
   "metadata": {},
   "source": [
    "Let's look at how many of the instagram accounts are associated with more than one artist. These should not be personal accounts."
   ]
  },
  {
   "cell_type": "code",
   "execution_count": 48,
   "metadata": {},
   "outputs": [
    {
     "data": {
      "text/plain": [
       "count              278\n",
       "unique             259\n",
       "top       holistic_ink\n",
       "freq                 3\n",
       "Name: Instagram, dtype: object"
      ]
     },
     "execution_count": 48,
     "metadata": {},
     "output_type": "execute_result"
    }
   ],
   "source": [
    "data['Instagram'].describe()"
   ]
  },
  {
   "cell_type": "markdown",
   "metadata": {},
   "source": [
    "We see that 259 out of the 278 entries are unique.\n",
    "Let's look only at instagram by followers. To do so we'll create a new DataFrame\n",
    "by dropping duplicates."
   ]
  },
  {
   "cell_type": "code",
   "execution_count": 90,
   "metadata": {},
   "outputs": [],
   "source": [
    "insta_count = data.drop_duplicates(subset=['Instagram']).loc[:,['Instagram', 'Followers']]\n",
    "insta_count.set_index('Instagram', inplace=True)"
   ]
  },
  {
   "cell_type": "markdown",
   "metadata": {},
   "source": [
    "Let's take a first look at the follower distribution"
   ]
  },
  {
   "cell_type": "code",
   "execution_count": 195,
   "metadata": {},
   "outputs": [
    {
     "data": {
      "image/png": "[encoded data removed]",
      "text/plain": [
       "<matplotlib.figure.Figure at 0x7f2daca41198>"
      ]
     },
     "metadata": {},
     "output_type": "display_data"
    }
   ],
   "source": [
    "sns.distplot(insta_count,kde=False,\n",
    "            hist_kws = dict(alpha=1))\n",
    "\n",
    "plt.xlabel(\"Follower count\")\n",
    "plt.ylabel(\"Frequency\")\n",
    "plt.show()"
   ]
  },
  {
   "cell_type": "markdown",
   "metadata": {},
   "source": [
    "What's the CDF?"
   ]
  },
  {
   "cell_type": "code",
   "execution_count": 197,
   "metadata": {},
   "outputs": [
    {
     "data": {
      "image/png": "[encoded data removed]",
      "text/plain": [
       "<matplotlib.figure.Figure at 0x7f2dabb41898>"
      ]
     },
     "metadata": {},
     "output_type": "display_data"
    }
   ],
   "source": [
    "np.log10(insta_count).hist(cumulative=True, bins=100, normed=True)\n",
    "xticks = np.array([2,3,4,5])\n",
    "\n",
    "xticklabels = 10**xticks\n",
    "\n",
    "plt.title(\"Followers CDF\")\n",
    "\n",
    "plt.xticks(xticks,xticklabels)\n",
    "plt.xlim(xmax=np.log10(insta_count.values.max()))\n",
    "\n",
    "plt.xlabel(\"Follower count\")\n",
    "plt.ylabel(\"Relative Frequency\")\n",
    "\n",
    "plt.show()"
   ]
  },
  {
   "cell_type": "markdown",
   "metadata": {},
   "source": [
    "From CDF we can see that more than 80% of the accounts have less than 10k followers\n",
    "and about 20% less than 1000.\n",
    "\n",
    "Looks like there are a few outliers. What is the distribution without them?\n",
    "Let's exclude points two sigmas away from the mean."
   ]
  },
  {
   "cell_type": "code",
   "execution_count": 117,
   "metadata": {},
   "outputs": [],
   "source": [
    "insta_out = insta_count > (insta_count.mean() + 2*insta_count.std())"
   ]
  },
  {
   "cell_type": "code",
   "execution_count": 118,
   "metadata": {},
   "outputs": [
    {
     "data": {
      "text/html": [
       "<div>\n",
       "<style>\n",
       "    .dataframe thead tr:only-child th {\n",
       "        text-align: right;\n",
       "    }\n",
       "\n",
       "    .dataframe thead th {\n",
       "        text-align: left;\n",
       "    }\n",
       "\n",
       "    .dataframe tbody tr th {\n",
       "        vertical-align: top;\n",
       "    }\n",
       "</style>\n",
       "<table border=\"1\" class=\"dataframe\">\n",
       "  <thead>\n",
       "    <tr style=\"text-align: right;\">\n",
       "      <th></th>\n",
       "      <th>Followers</th>\n",
       "    </tr>\n",
       "    <tr>\n",
       "      <th>Instagram</th>\n",
       "      <th></th>\n",
       "    </tr>\n",
       "  </thead>\n",
       "  <tbody>\n",
       "    <tr>\n",
       "      <th>cleenrockone</th>\n",
       "      <td>197520.0</td>\n",
       "    </tr>\n",
       "    <tr>\n",
       "      <th>blackink.125th</th>\n",
       "      <td>202020.0</td>\n",
       "    </tr>\n",
       "    <tr>\n",
       "      <th>inkbykyledunbar</th>\n",
       "      <td>106254.0</td>\n",
       "    </tr>\n",
       "    <tr>\n",
       "      <th>ryanhenrytattoo</th>\n",
       "      <td>598989.0</td>\n",
       "    </tr>\n",
       "  </tbody>\n",
       "</table>\n",
       "</div>"
      ],
      "text/plain": [
       "                 Followers\n",
       "Instagram                 \n",
       "cleenrockone      197520.0\n",
       "blackink.125th    202020.0\n",
       "inkbykyledunbar   106254.0\n",
       "ryanhenrytattoo   598989.0"
      ]
     },
     "execution_count": 118,
     "metadata": {},
     "output_type": "execute_result"
    }
   ],
   "source": [
    "# outliers\n",
    "insta_count[insta_out.values]"
   ]
  },
  {
   "cell_type": "code",
   "execution_count": 196,
   "metadata": {},
   "outputs": [
    {
     "data": {
      "image/png": "[encoded data removed]",
      "text/plain": [
       "<matplotlib.figure.Figure at 0x7f2dabb16860>"
      ]
     },
     "metadata": {},
     "output_type": "display_data"
    },
    {
     "data": {
      "image/png": "[encoded data removed]",
      "text/plain": [
       "<matplotlib.figure.Figure at 0x7f2dabdbdf98>"
      ]
     },
     "metadata": {},
     "output_type": "display_data"
    }
   ],
   "source": [
    "sns.distplot(insta_count[~insta_out.values],\n",
    "             kde=False, bins = 15,\n",
    "            hist_kws = dict(alpha=1))\n",
    "\n",
    "plt.xlabel(\"Follower count\")\n",
    "plt.ylabel(\"Frequency\")\n",
    "plt.show()\n",
    "\n",
    "\n",
    "sns.distplot(insta_count[(insta_count < 1e4).values],\n",
    "             kde=False, bins = 15,\n",
    "            hist_kws = dict(alpha=1))\n",
    "\n",
    "plt.xlabel(\"Follower count\")\n",
    "plt.ylabel(\"Frequency\")\n",
    "plt.show()"
   ]
  },
  {
   "cell_type": "markdown",
   "metadata": {},
   "source": [
    "Top 10 instagram accounts:"
   ]
  },
  {
   "cell_type": "code",
   "execution_count": 292,
   "metadata": {
    "scrolled": true
   },
   "outputs": [
    {
     "data": {
      "image/png": "[encoded data removed]",
      "text/plain": [
       "<matplotlib.figure.Figure at 0x7f2dab479d68>"
      ]
     },
     "metadata": {},
     "output_type": "display_data"
    }
   ],
   "source": [
    "fig, ax = plt.subplots(figsize=(10,5))\n",
    "\n",
    "top10 = data.sort_values('Followers', ascending=False)[0:10]\n",
    "\n",
    "sns.barplot(x='Followers', y = 'Instagram', data = top10,\n",
    "            ci=None, n_boot=0, ax = ax,\n",
    "              estimator=np.sum)\n",
    "ax.set_xlim(xmax=top10.Followers.max())\n",
    "\n",
    "plt.show()"
   ]
  },
  {
   "cell_type": "code",
   "execution_count": 291,
   "metadata": {},
   "outputs": [
    {
     "data": {
      "text/html": [
       "<div>\n",
       "<style>\n",
       "    .dataframe thead tr:only-child th {\n",
       "        text-align: right;\n",
       "    }\n",
       "\n",
       "    .dataframe thead th {\n",
       "        text-align: left;\n",
       "    }\n",
       "\n",
       "    .dataframe tbody tr th {\n",
       "        vertical-align: top;\n",
       "    }\n",
       "</style>\n",
       "<table border=\"1\" class=\"dataframe\">\n",
       "  <thead>\n",
       "    <tr style=\"text-align: right;\">\n",
       "      <th></th>\n",
       "      <th>Instagram</th>\n",
       "      <th>Followers</th>\n",
       "      <th>Artist</th>\n",
       "    </tr>\n",
       "  </thead>\n",
       "  <tbody>\n",
       "    <tr>\n",
       "      <th>239</th>\n",
       "      <td>ryanhenrytattoo</td>\n",
       "      <td>598989.0</td>\n",
       "      <td>Ryan Henry</td>\n",
       "    </tr>\n",
       "    <tr>\n",
       "      <th>238</th>\n",
       "      <td>9magtattoo</td>\n",
       "      <td>39536.0</td>\n",
       "      <td>Ryan Henry</td>\n",
       "    </tr>\n",
       "  </tbody>\n",
       "</table>\n",
       "</div>"
      ],
      "text/plain": [
       "           Instagram  Followers      Artist\n",
       "239  ryanhenrytattoo   598989.0  Ryan Henry\n",
       "238       9magtattoo    39536.0  Ryan Henry"
      ]
     },
     "execution_count": 291,
     "metadata": {},
     "output_type": "execute_result"
    }
   ],
   "source": [
    "top10.loc[top10['Artist']=='Ryan Henry']"
   ]
  }
 ],
 "metadata": {
  "kernelspec": {
   "display_name": "Python 3",
   "language": "python",
   "name": "python3"
  },
  "language_info": {
   "codemirror_mode": {
    "name": "ipython",
    "version": 3
   },
   "file_extension": ".py",
   "mimetype": "text/x-python",
   "name": "python",
   "nbconvert_exporter": "python",
   "pygments_lexer": "ipython3",
   "version": "3.5.1"
  }
 },
 "nbformat": 4,
 "nbformat_minor": 2
}
